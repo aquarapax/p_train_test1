{
 "cells": [
  {
   "cell_type": "code",
   "execution_count": null,
   "id": "b4dc98ed-a215-4794-96d8-e7789c73f33f",
   "metadata": {},
   "outputs": [
    {
     "name": "stdout",
     "output_type": "stream",
     "text": [
      "Задача 1 \"мин, макс, остаток\"\n",
      "22\n",
      "6\n",
      "22\n"
     ]
    }
   ],
   "source": [
    "# Задача №1\n",
    "print('Задача 1 \"мин, макс, остаток\"')\n",
    "res_ =[] # Список для введенных целых чисел\n",
    "i = 1\n",
    "while i < 4: # Цикл от 1 до 3\n",
    "    num_ = input((f'Введите число {i} :')) # Ввод числа\n",
    "    try: #Ошибка на int \n",
    "        res_.append(int(num_)) # добавление введенного числа в список\n",
    "        num_ = int(num_) # в int иначе sum не сработает\n",
    "    except ValueError: # Если введен не Int выводим сообщение и откатываем цикл на шаг назад\n",
    "        print(f'Вы ввели {num_} это не число')\n",
    "        i -= 1\n",
    "    i+=1 # Следующий шаг цикла\n",
    "print(max(res_), min(res_), sum(res_) - max(res_)- min(res_),  sep='\\n') # вывод результата"
   ]
  },
  {
   "cell_type": "code",
   "execution_count": 2,
   "id": "5ad97d87-f198-4ad4-94ab-9f07c059a5ad",
   "metadata": {},
   "outputs": [
    {
     "name": "stdout",
     "output_type": "stream",
     "text": [
      "Задача 2 \"Счастливый билет\"\n",
      "Обычный\n"
     ]
    }
   ],
   "source": [
    "# Задача №2\n",
    "print('Задача 2 \"Счастливый билет\"')\n",
    "t_num = input('Введите номер билета (6 цифр): ') # ВВод номера билета\n",
    "if len(t_num) != 6 or not t_num.isdigit(): # Проверка на длинну и цифры\n",
    "    print(\"Это билет на балет.\")\n",
    "else:\n",
    "    sum_l = int(t_num[0]) + int(t_num[1]) + int(t_num[2]) # Сумма трех левых цифр\n",
    "    sum_r = int(t_num[3]) + int(t_num[4]) + int(t_num[5]) # Сумма трех правых цифр\n",
    " # Вывод результата\n",
    "    if sum_l == sum_r:\n",
    "        print(\"Счастливый\")\n",
    "    else:\n",
    "        print(\"Обычный\")\n"
   ]
  }
 ],
 "metadata": {
  "kernelspec": {
   "display_name": "Python 3",
   "language": "python",
   "name": "python3"
  },
  "language_info": {
   "codemirror_mode": {
    "name": "ipython",
    "version": 3
   },
   "file_extension": ".py",
   "mimetype": "text/x-python",
   "name": "python",
   "nbconvert_exporter": "python",
   "pygments_lexer": "ipython3",
   "version": "3.13.0"
  }
 },
 "nbformat": 4,
 "nbformat_minor": 5
}
